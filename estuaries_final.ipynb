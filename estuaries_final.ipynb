{
 "cells": [
  {
   "cell_type": "markdown",
   "metadata": {},
   "source": [
    "# Data Preparation (NSW Estuary Temp data)"
   ]
  },
  {
   "cell_type": "markdown",
   "metadata": {},
   "source": [
    "**Data Source:**\n",
    "+ https://datasets.seed.nsw.gov.au/dataset/nsw-estuary-temperature-ph-and-salinity-data"
   ]
  },
  {
   "cell_type": "markdown",
   "metadata": {},
   "source": [
    "For our analysis we require only temperature data only, so from the given data source the temperature data is extracted. The data preparation was done in\n",
    "+ **Part1:** In tableau where all the unnecessary fields were removed, and the columns were renamed appropriately.\n",
    "+ **Part2:** In python, using Pandas, the unique values were identifies and the data was grouped by the estuaries name, type and the year of data recording. \n",
    "\n",
    "*(As the data was recorded on a quartely basis so the mean temp was calculated and saved in **estuaries_agg** as final data.)*"
   ]
  },
  {
   "cell_type": "code",
   "execution_count": 42,
   "metadata": {},
   "outputs": [],
   "source": [
    "import os"
   ]
  },
  {
   "cell_type": "code",
   "execution_count": 43,
   "metadata": {},
   "outputs": [],
   "source": [
    "import numpy as np # linear algebra\n",
    "import pandas as pd # data processing, CSV file I/O (e.g. pd.read_csv)\n",
    "import matplotlib.pyplot as plt #plotting\n",
    "import seaborn as sns #for beatiful visualization"
   ]
  },
  {
   "cell_type": "code",
   "execution_count": 44,
   "metadata": {},
   "outputs": [
    {
     "data": {
      "text/plain": [
       "'C:\\\\Users\\\\61423\\\\OneDrive\\\\Desktop\\\\SEM 3\\\\DVN\\\\AT3\\\\Python'"
      ]
     },
     "execution_count": 44,
     "metadata": {},
     "output_type": "execute_result"
    }
   ],
   "source": [
    "os.getcwd()"
   ]
  },
  {
   "cell_type": "code",
   "execution_count": 45,
   "metadata": {},
   "outputs": [],
   "source": [
    "estuaries= pd.read_csv(r'C:\\\\Users\\\\61423\\\\OneDrive\\\\Desktop\\\\SEM 3\\\\DVN\\\\AT3\\\\nsw stats\\\\water quality\\\\estuary_temp.csv')\n",
    "#estuaries.head()"
   ]
  },
  {
   "cell_type": "code",
   "execution_count": 46,
   "metadata": {},
   "outputs": [],
   "source": [
    "#estuaries.info()"
   ]
  },
  {
   "cell_type": "code",
   "execution_count": 47,
   "metadata": {},
   "outputs": [
    {
     "data": {
      "text/html": [
       "<div>\n",
       "<style scoped>\n",
       "    .dataframe tbody tr th:only-of-type {\n",
       "        vertical-align: middle;\n",
       "    }\n",
       "\n",
       "    .dataframe tbody tr th {\n",
       "        vertical-align: top;\n",
       "    }\n",
       "\n",
       "    .dataframe thead th {\n",
       "        text-align: right;\n",
       "    }\n",
       "</style>\n",
       "<table border=\"1\" class=\"dataframe\">\n",
       "  <thead>\n",
       "    <tr style=\"text-align: right;\">\n",
       "      <th></th>\n",
       "      <th>Column_Name</th>\n",
       "      <th>Num_Unique</th>\n",
       "    </tr>\n",
       "  </thead>\n",
       "  <tbody>\n",
       "    <tr>\n",
       "      <th>4</th>\n",
       "      <td>Number of Records</td>\n",
       "      <td>1</td>\n",
       "    </tr>\n",
       "    <tr>\n",
       "      <th>1</th>\n",
       "      <td>Estuary_type</td>\n",
       "      <td>5</td>\n",
       "    </tr>\n",
       "    <tr>\n",
       "      <th>5</th>\n",
       "      <td>Year</td>\n",
       "      <td>12</td>\n",
       "    </tr>\n",
       "    <tr>\n",
       "      <th>3</th>\n",
       "      <td>Longitude</td>\n",
       "      <td>116</td>\n",
       "    </tr>\n",
       "    <tr>\n",
       "      <th>2</th>\n",
       "      <td>Latitude</td>\n",
       "      <td>156</td>\n",
       "    </tr>\n",
       "    <tr>\n",
       "      <th>0</th>\n",
       "      <td>Estuary_name</td>\n",
       "      <td>165</td>\n",
       "    </tr>\n",
       "    <tr>\n",
       "      <th>6</th>\n",
       "      <td>Temp °C</td>\n",
       "      <td>1338</td>\n",
       "    </tr>\n",
       "  </tbody>\n",
       "</table>\n",
       "</div>"
      ],
      "text/plain": [
       "         Column_Name  Num_Unique\n",
       "4  Number of Records           1\n",
       "1       Estuary_type           5\n",
       "5               Year          12\n",
       "3          Longitude         116\n",
       "2          Latitude          156\n",
       "0       Estuary_name         165\n",
       "6            Temp °C        1338"
      ]
     },
     "execution_count": 47,
     "metadata": {},
     "output_type": "execute_result"
    }
   ],
   "source": [
    "# To identify unique vlaues in estuaries columns\n",
    "unique_counts = pd.DataFrame.from_records([(col, estuaries[col].nunique()) for col in estuaries.columns],\n",
    "                          columns=['Column_Name', 'Num_Unique']).sort_values(by=['Num_Unique'])\n",
    "unique_counts\n",
    "\n",
    "# https://pbpython.com/pandas_dtypes_cat.html"
   ]
  },
  {
   "cell_type": "code",
   "execution_count": 48,
   "metadata": {},
   "outputs": [],
   "source": [
    "Key= [\"Estuary_name\",\"Estuary_type\", \"Year\"]\n",
    "estuaries['Year'] = pd.to_datetime(estuaries['Year'])"
   ]
  },
  {
   "cell_type": "code",
   "execution_count": 49,
   "metadata": {},
   "outputs": [
    {
     "data": {
      "text/html": [
       "<div>\n",
       "<style scoped>\n",
       "    .dataframe tbody tr th:only-of-type {\n",
       "        vertical-align: middle;\n",
       "    }\n",
       "\n",
       "    .dataframe tbody tr th {\n",
       "        vertical-align: top;\n",
       "    }\n",
       "\n",
       "    .dataframe thead th {\n",
       "        text-align: right;\n",
       "    }\n",
       "</style>\n",
       "<table border=\"1\" class=\"dataframe\">\n",
       "  <thead>\n",
       "    <tr style=\"text-align: right;\">\n",
       "      <th></th>\n",
       "      <th></th>\n",
       "      <th></th>\n",
       "      <th>Latitude</th>\n",
       "      <th>Longitude</th>\n",
       "      <th>Number of Records</th>\n",
       "      <th>Temp °C</th>\n",
       "    </tr>\n",
       "    <tr>\n",
       "      <th>Estuary_name</th>\n",
       "      <th>Estuary_type</th>\n",
       "      <th>Year</th>\n",
       "      <th></th>\n",
       "      <th></th>\n",
       "      <th></th>\n",
       "      <th></th>\n",
       "    </tr>\n",
       "  </thead>\n",
       "  <tbody>\n",
       "    <tr>\n",
       "      <th rowspan=\"3\" valign=\"top\">Arrawarra Creek</th>\n",
       "      <th rowspan=\"3\" valign=\"top\">Lagoon</th>\n",
       "      <th>2012-01-01</th>\n",
       "      <td>30.06</td>\n",
       "      <td>153.20</td>\n",
       "      <td>1</td>\n",
       "      <td>22.258750</td>\n",
       "    </tr>\n",
       "    <tr>\n",
       "      <th>2015-01-01</th>\n",
       "      <td>30.06</td>\n",
       "      <td>153.20</td>\n",
       "      <td>1</td>\n",
       "      <td>26.125833</td>\n",
       "    </tr>\n",
       "    <tr>\n",
       "      <th>2018-01-01</th>\n",
       "      <td>30.06</td>\n",
       "      <td>153.20</td>\n",
       "      <td>1</td>\n",
       "      <td>28.720000</td>\n",
       "    </tr>\n",
       "    <tr>\n",
       "      <th rowspan=\"2\" valign=\"top\">Avoca Lake</th>\n",
       "      <th rowspan=\"2\" valign=\"top\">BDL</th>\n",
       "      <th>2007-01-01</th>\n",
       "      <td>33.46</td>\n",
       "      <td>151.44</td>\n",
       "      <td>1</td>\n",
       "      <td>24.960455</td>\n",
       "    </tr>\n",
       "    <tr>\n",
       "      <th>2010-01-01</th>\n",
       "      <td>33.46</td>\n",
       "      <td>151.44</td>\n",
       "      <td>1</td>\n",
       "      <td>25.388333</td>\n",
       "    </tr>\n",
       "    <tr>\n",
       "      <th>...</th>\n",
       "      <th>...</th>\n",
       "      <th>...</th>\n",
       "      <td>...</td>\n",
       "      <td>...</td>\n",
       "      <td>...</td>\n",
       "      <td>...</td>\n",
       "    </tr>\n",
       "    <tr>\n",
       "      <th rowspan=\"4\" valign=\"top\">Wooli Wooli River</th>\n",
       "      <th rowspan=\"4\" valign=\"top\">River</th>\n",
       "      <th>2009-01-01</th>\n",
       "      <td>29.89</td>\n",
       "      <td>153.27</td>\n",
       "      <td>1</td>\n",
       "      <td>26.148750</td>\n",
       "    </tr>\n",
       "    <tr>\n",
       "      <th>2012-01-01</th>\n",
       "      <td>29.89</td>\n",
       "      <td>153.27</td>\n",
       "      <td>1</td>\n",
       "      <td>21.698750</td>\n",
       "    </tr>\n",
       "    <tr>\n",
       "      <th>2015-01-01</th>\n",
       "      <td>29.89</td>\n",
       "      <td>153.27</td>\n",
       "      <td>1</td>\n",
       "      <td>26.556667</td>\n",
       "    </tr>\n",
       "    <tr>\n",
       "      <th>2018-01-01</th>\n",
       "      <td>29.89</td>\n",
       "      <td>153.27</td>\n",
       "      <td>1</td>\n",
       "      <td>27.278750</td>\n",
       "    </tr>\n",
       "    <tr>\n",
       "      <th>Wowly Gully</th>\n",
       "      <th>Lagoon</th>\n",
       "      <th>2011-01-01</th>\n",
       "      <td>35.00</td>\n",
       "      <td>150.73</td>\n",
       "      <td>1</td>\n",
       "      <td>22.892500</td>\n",
       "    </tr>\n",
       "  </tbody>\n",
       "</table>\n",
       "<p>524 rows × 4 columns</p>\n",
       "</div>"
      ],
      "text/plain": [
       "                                           Latitude   Longitude  \\\n",
       "Estuary_name      Estuary_type Year                               \n",
       "Arrawarra Creek   Lagoon       2012-01-01      30.06     153.20   \n",
       "                               2015-01-01      30.06     153.20   \n",
       "                               2018-01-01      30.06     153.20   \n",
       "Avoca Lake        BDL          2007-01-01      33.46     151.44   \n",
       "                               2010-01-01      33.46     151.44   \n",
       "...                                              ...        ...   \n",
       "Wooli Wooli River River        2009-01-01      29.89     153.27   \n",
       "                               2012-01-01      29.89     153.27   \n",
       "                               2015-01-01      29.89     153.27   \n",
       "                               2018-01-01      29.89     153.27   \n",
       "Wowly Gully       Lagoon       2011-01-01      35.00     150.73   \n",
       "\n",
       "                                           Number of Records    Temp °C  \n",
       "Estuary_name      Estuary_type Year                                      \n",
       "Arrawarra Creek   Lagoon       2012-01-01                  1  22.258750  \n",
       "                               2015-01-01                  1  26.125833  \n",
       "                               2018-01-01                  1  28.720000  \n",
       "Avoca Lake        BDL          2007-01-01                  1  24.960455  \n",
       "                               2010-01-01                  1  25.388333  \n",
       "...                                                      ...        ...  \n",
       "Wooli Wooli River River        2009-01-01                  1  26.148750  \n",
       "                               2012-01-01                  1  21.698750  \n",
       "                               2015-01-01                  1  26.556667  \n",
       "                               2018-01-01                  1  27.278750  \n",
       "Wowly Gully       Lagoon       2011-01-01                  1  22.892500  \n",
       "\n",
       "[524 rows x 4 columns]"
      ]
     },
     "execution_count": 49,
     "metadata": {},
     "output_type": "execute_result"
    }
   ],
   "source": [
    "estuaries_agg= estuaries.groupby(Key).mean()\n",
    "estuaries_agg"
   ]
  },
  {
   "cell_type": "code",
   "execution_count": 50,
   "metadata": {},
   "outputs": [],
   "source": [
    "import matplotlib.pyplot as plt"
   ]
  },
  {
   "cell_type": "code",
   "execution_count": 54,
   "metadata": {},
   "outputs": [],
   "source": [
    "# Save the data into a csv\n",
    "estuaries_agg.to_csv(\"estuaries_final.csv\")"
   ]
  },
  {
   "cell_type": "code",
   "execution_count": null,
   "metadata": {},
   "outputs": [],
   "source": []
  }
 ],
 "metadata": {
  "kernelspec": {
   "display_name": "Python 3.7.3 64-bit ('base': conda)",
   "language": "python",
   "name": "python37364bitbasecondab7facb6f74ce4591a50a5b831effa026"
  },
  "language_info": {
   "codemirror_mode": {
    "name": "ipython",
    "version": 3
   },
   "file_extension": ".py",
   "mimetype": "text/x-python",
   "name": "python",
   "nbconvert_exporter": "python",
   "pygments_lexer": "ipython3",
   "version": "3.7.3"
  }
 },
 "nbformat": 4,
 "nbformat_minor": 4
}
