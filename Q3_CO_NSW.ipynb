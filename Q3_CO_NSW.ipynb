{
 "cells": [
  {
   "cell_type": "markdown",
   "metadata": {},
   "source": [
    "# Carbon-monooxide content in the air"
   ]
  },
  {
   "cell_type": "code",
   "execution_count": null,
   "metadata": {},
   "outputs": [],
   "source": []
  },
  {
   "cell_type": "code",
   "execution_count": 2,
   "metadata": {},
   "outputs": [],
   "source": [
    "import numpy as np # linear algebra\n",
    "import pandas as pd # data processing, CSV file I/O (e.g. pd.read_csv)\n",
    "import matplotlib.pyplot as plt #plotting\n",
    "import seaborn as sns #for beatiful visualization"
   ]
  },
  {
   "cell_type": "code",
   "execution_count": 3,
   "metadata": {},
   "outputs": [],
   "source": [
    "# reading csv\n",
    "CO= pd.read_csv(r'C:\\\\Users\\\\61423\\\\OneDrive\\\\Desktop\\\\SEM 3\\\\DVN\\\\AT3\\\\smoke-air quality\\\\CO(NSW).csv')\n",
    "#CO"
   ]
  },
  {
   "cell_type": "code",
   "execution_count": 4,
   "metadata": {},
   "outputs": [],
   "source": [
    "from datetime import datetime, date\n",
    "CO[\"Date\"]= pd.to_datetime(CO[\"Date\"]).dt.normalize() #conversion of object type to date type\n",
    "#CO[\"Date\"]"
   ]
  },
  {
   "cell_type": "code",
   "execution_count": 5,
   "metadata": {},
   "outputs": [],
   "source": [
    "# Taking average of air quality index for all regions in NSW \n",
    "CO['CO_avg'] = CO.iloc[:,1:].mean(axis=1)\n",
    "#CO.head()"
   ]
  },
  {
   "cell_type": "code",
   "execution_count": 7,
   "metadata": {},
   "outputs": [],
   "source": [
    "# set Date to datetimeindex\n",
    "CO.set_index('Date', inplace=True)\n",
    "CO.index = pd.to_datetime(CO.index)"
   ]
  },
  {
   "cell_type": "code",
   "execution_count": 8,
   "metadata": {},
   "outputs": [
    {
     "data": {
      "text/html": [
       "<div>\n",
       "<style scoped>\n",
       "    .dataframe tbody tr th:only-of-type {\n",
       "        vertical-align: middle;\n",
       "    }\n",
       "\n",
       "    .dataframe tbody tr th {\n",
       "        vertical-align: top;\n",
       "    }\n",
       "\n",
       "    .dataframe thead th {\n",
       "        text-align: right;\n",
       "    }\n",
       "</style>\n",
       "<table border=\"1\" class=\"dataframe\">\n",
       "  <thead>\n",
       "    <tr style=\"text-align: right;\">\n",
       "      <th></th>\n",
       "      <th>CO_avg</th>\n",
       "    </tr>\n",
       "    <tr>\n",
       "      <th>Date</th>\n",
       "      <th></th>\n",
       "    </tr>\n",
       "  </thead>\n",
       "  <tbody>\n",
       "    <tr>\n",
       "      <th>2017-11-30</th>\n",
       "      <td>0.160000</td>\n",
       "    </tr>\n",
       "    <tr>\n",
       "      <th>2017-12-31</th>\n",
       "      <td>0.210000</td>\n",
       "    </tr>\n",
       "    <tr>\n",
       "      <th>2018-01-31</th>\n",
       "      <td>0.177778</td>\n",
       "    </tr>\n",
       "    <tr>\n",
       "      <th>2018-02-28</th>\n",
       "      <td>0.170000</td>\n",
       "    </tr>\n",
       "    <tr>\n",
       "      <th>2018-03-31</th>\n",
       "      <td>0.180000</td>\n",
       "    </tr>\n",
       "  </tbody>\n",
       "</table>\n",
       "</div>"
      ],
      "text/plain": [
       "              CO_avg\n",
       "Date                \n",
       "2017-11-30  0.160000\n",
       "2017-12-31  0.210000\n",
       "2018-01-31  0.177778\n",
       "2018-02-28  0.170000\n",
       "2018-03-31  0.180000"
      ]
     },
     "execution_count": 8,
     "metadata": {},
     "output_type": "execute_result"
    }
   ],
   "source": [
    "CO_avg = CO.resample('M').agg({'CO_avg':'max'}) \n",
    "CO_avg.head()"
   ]
  },
  {
   "cell_type": "code",
   "execution_count": 9,
   "metadata": {},
   "outputs": [
    {
     "name": "stdout",
     "output_type": "stream",
     "text": [
      "modified: \n",
      "         Date    CO_avg\n",
      "0  2017-11-30  0.160000\n",
      "1  2017-12-31  0.210000\n",
      "2  2018-01-31  0.177778\n",
      "3  2018-02-28  0.170000\n",
      "4  2018-03-31  0.180000\n",
      "5  2018-04-30  0.210000\n",
      "6  2018-05-31  0.250000\n",
      "7  2018-06-30  0.230000\n",
      "8  2018-07-31  0.250000\n",
      "9  2018-08-31  0.172727\n",
      "10 2018-09-30  0.172727\n",
      "11 2018-10-31  0.181818\n",
      "12 2018-11-30  0.166667\n",
      "13 2018-12-31  0.172727\n",
      "14 2019-01-31  0.181818\n",
      "15 2019-02-28  0.154545\n",
      "16 2019-03-31  0.163636\n",
      "17 2019-04-30  0.180000\n",
      "18 2019-05-31  0.227273\n",
      "19 2019-06-30  0.236364\n",
      "20 2019-07-31  0.227273\n",
      "21 2019-08-31  0.181818\n",
      "22 2019-09-30  0.154545\n",
      "23 2019-10-31  0.181818\n",
      "24 2019-11-30  0.209091\n",
      "25 2019-12-31  0.300000\n"
     ]
    }
   ],
   "source": [
    "# Naming the index column\n",
    "CO_avg.index.name= \"Date\"\n",
    "\n",
    "# Converting the index into a column\n",
    "CO_MONTHLY= CO_avg.reset_index()\n",
    "print(\"modified: \")\n",
    "print(CO_MONTHLY)"
   ]
  },
  {
   "cell_type": "code",
   "execution_count": 10,
   "metadata": {},
   "outputs": [
    {
     "name": "stdout",
     "output_type": "stream",
     "text": [
      "         Date    CO_avg         mnth_yr  year\n",
      "0  2017-11-30  0.160000   November-2017  2017\n",
      "1  2017-12-31  0.210000   December-2017  2017\n",
      "2  2018-01-31  0.177778    January-2018  2018\n",
      "3  2018-02-28  0.170000   February-2018  2018\n",
      "4  2018-03-31  0.180000      March-2018  2018\n",
      "5  2018-04-30  0.210000      April-2018  2018\n",
      "6  2018-05-31  0.250000        May-2018  2018\n",
      "7  2018-06-30  0.230000       June-2018  2018\n",
      "8  2018-07-31  0.250000       July-2018  2018\n",
      "9  2018-08-31  0.172727     August-2018  2018\n",
      "10 2018-09-30  0.172727  September-2018  2018\n",
      "11 2018-10-31  0.181818    October-2018  2018\n",
      "12 2018-11-30  0.166667   November-2018  2018\n",
      "13 2018-12-31  0.172727   December-2018  2018\n",
      "14 2019-01-31  0.181818    January-2019  2019\n",
      "15 2019-02-28  0.154545   February-2019  2019\n",
      "16 2019-03-31  0.163636      March-2019  2019\n",
      "17 2019-04-30  0.180000      April-2019  2019\n",
      "18 2019-05-31  0.227273        May-2019  2019\n",
      "19 2019-06-30  0.236364       June-2019  2019\n",
      "20 2019-07-31  0.227273       July-2019  2019\n",
      "21 2019-08-31  0.181818     August-2019  2019\n",
      "22 2019-09-30  0.154545  September-2019  2019\n",
      "23 2019-10-31  0.181818    October-2019  2019\n",
      "24 2019-11-30  0.209091   November-2019  2019\n",
      "25 2019-12-31  0.300000   December-2019  2019\n"
     ]
    }
   ],
   "source": [
    "CO_MONTHLY['mnth_yr'] = CO_MONTHLY['Date'].apply(lambda x: x.strftime('%B-%Y')) \n",
    "CO_MONTHLY['year'] = CO_MONTHLY['Date'].apply(lambda x: x.strftime('%Y')) \n",
    "print(CO_MONTHLY)"
   ]
  },
  {
   "cell_type": "code",
   "execution_count": 40,
   "metadata": {},
   "outputs": [],
   "source": [
    "# Save the year+months ozone data into a csv\n",
    "CO_MONTHLY.to_csv(\"CO_MONTHLY.csv\")"
   ]
  },
  {
   "cell_type": "markdown",
   "metadata": {},
   "source": [
    "# PLOT CO "
   ]
  },
  {
   "cell_type": "code",
   "execution_count": 11,
   "metadata": {},
   "outputs": [],
   "source": [
    "from matplotlib import pyplot\n",
    "#plt.style.use('ggplot')\n",
    "plt.style.use('seaborn-white')"
   ]
  },
  {
   "cell_type": "code",
   "execution_count": 12,
   "metadata": {},
   "outputs": [
    {
     "data": {
      "image/png": "[encoded data removed]",
      "text/plain": [
       "<Figure size 432x288 with 1 Axes>"
      ]
     },
     "metadata": {},
     "output_type": "display_data"
    }
   ],
   "source": [
    "CO_MONTHLY.plot(x= \"year\", y=\"CO_avg\")\n",
    "\n",
    "fig= plt.gcf()\n",
    "#fig.savefig(\"ozone_monthly.png\")\n",
    "pyplot.xlabel(\"Year\")\n",
    "pyplot.ylabel('CO_avg')\n",
    "pyplot.title(\"Australia(NSW): Increase in Carbon monooxide\")\n",
    "fig.savefig(\"CO_monthly.png\")\n",
    "pyplot.show()\n",
    "\n",
    "\n",
    "#plt.savefig('Aus_Diff_in_temp.png')"
   ]
  },
  {
   "cell_type": "markdown",
   "metadata": {},
   "source": [
    "# yearly data"
   ]
  },
  {
   "cell_type": "code",
   "execution_count": 44,
   "metadata": {},
   "outputs": [
    {
     "data": {
      "text/html": [
       "<div>\n",
       "<style scoped>\n",
       "    .dataframe tbody tr th:only-of-type {\n",
       "        vertical-align: middle;\n",
       "    }\n",
       "\n",
       "    .dataframe tbody tr th {\n",
       "        vertical-align: top;\n",
       "    }\n",
       "\n",
       "    .dataframe thead th {\n",
       "        text-align: right;\n",
       "    }\n",
       "</style>\n",
       "<table border=\"1\" class=\"dataframe\">\n",
       "  <thead>\n",
       "    <tr style=\"text-align: right;\">\n",
       "      <th></th>\n",
       "      <th>CO_avg</th>\n",
       "    </tr>\n",
       "    <tr>\n",
       "      <th>Date</th>\n",
       "      <th></th>\n",
       "    </tr>\n",
       "  </thead>\n",
       "  <tbody>\n",
       "    <tr>\n",
       "      <th>2017-12-31</th>\n",
       "      <td>0.21</td>\n",
       "    </tr>\n",
       "    <tr>\n",
       "      <th>2018-12-31</th>\n",
       "      <td>0.25</td>\n",
       "    </tr>\n",
       "    <tr>\n",
       "      <th>2019-12-31</th>\n",
       "      <td>0.30</td>\n",
       "    </tr>\n",
       "  </tbody>\n",
       "</table>\n",
       "</div>"
      ],
      "text/plain": [
       "            CO_avg\n",
       "Date              \n",
       "2017-12-31    0.21\n",
       "2018-12-31    0.25\n",
       "2019-12-31    0.30"
      ]
     },
     "execution_count": 44,
     "metadata": {},
     "output_type": "execute_result"
    }
   ],
   "source": [
    "CO_yearly = CO.resample('Y').agg({'CO_avg':'max'})\n",
    "CO_yearly.head()"
   ]
  },
  {
   "cell_type": "code",
   "execution_count": 45,
   "metadata": {},
   "outputs": [
    {
     "name": "stdout",
     "output_type": "stream",
     "text": [
      "modified: \n",
      "        Date  CO_avg\n",
      "0 2017-12-31    0.21\n",
      "1 2018-12-31    0.25\n",
      "2 2019-12-31    0.30\n"
     ]
    }
   ],
   "source": [
    "# Naming the index column\n",
    "CO_yearly.index.name= \"Date\"\n",
    "\n",
    "# Converting the index into a column\n",
    "CO_yearly= CO_yearly.reset_index()\n",
    "print(\"modified: \")\n",
    "print(CO_yearly)"
   ]
  },
  {
   "cell_type": "code",
   "execution_count": 46,
   "metadata": {},
   "outputs": [
    {
     "name": "stdout",
     "output_type": "stream",
     "text": [
      "        Date  CO_avg  year\n",
      "0 2017-12-31    0.21  2017\n",
      "1 2018-12-31    0.25  2018\n",
      "2 2019-12-31    0.30  2019\n"
     ]
    }
   ],
   "source": [
    "# ADD year colum to it\n",
    "CO_yearly['year'] = CO_yearly['Date'].apply(lambda x: x.strftime('%Y'))\n",
    "print(CO_yearly)"
   ]
  },
  {
   "cell_type": "code",
   "execution_count": 47,
   "metadata": {},
   "outputs": [
    {
     "data": {
      "image/png": "[encoded data removed]",
      "text/plain": [
       "<Figure size 432x288 with 1 Axes>"
      ]
     },
     "metadata": {},
     "output_type": "display_data"
    }
   ],
   "source": [
    "CO_yearly.plot(x= \"year\", y=\"CO_avg\")\n",
    "\n",
    "fig= plt.gcf()\n",
    "#fig.savefig(\"ozone_yearly.png\")\n",
    "#pyplot.xlabel(\"Year\")\n",
    "pyplot.ylabel('CO contration')\n",
    "pyplot.title(\"Australia(NSW): Increase in CO (2017-2020)\")\n",
    "fig.savefig(\"CO.png\")\n",
    "pyplot.show()\n"
   ]
  },
  {
   "cell_type": "code",
   "execution_count": 48,
   "metadata": {},
   "outputs": [],
   "source": [
    "# Save the year+months ozone data into a csv\n",
    "CO_yearly.to_csv(\"CO_2017-2019.csv\")"
   ]
  },
  {
   "cell_type": "code",
   "execution_count": null,
   "metadata": {},
   "outputs": [],
   "source": []
  },
  {
   "cell_type": "code",
   "execution_count": null,
   "metadata": {},
   "outputs": [],
   "source": []
  },
  {
   "cell_type": "code",
   "execution_count": null,
   "metadata": {},
   "outputs": [],
   "source": []
  },
  {
   "cell_type": "code",
   "execution_count": null,
   "metadata": {},
   "outputs": [],
   "source": []
  },
  {
   "cell_type": "code",
   "execution_count": null,
   "metadata": {},
   "outputs": [],
   "source": []
  },
  {
   "cell_type": "code",
   "execution_count": null,
   "metadata": {},
   "outputs": [],
   "source": []
  },
  {
   "cell_type": "code",
   "execution_count": null,
   "metadata": {},
   "outputs": [],
   "source": []
  },
  {
   "cell_type": "code",
   "execution_count": null,
   "metadata": {},
   "outputs": [],
   "source": []
  },
  {
   "cell_type": "code",
   "execution_count": null,
   "metadata": {},
   "outputs": [],
   "source": []
  },
  {
   "cell_type": "code",
   "execution_count": null,
   "metadata": {},
   "outputs": [],
   "source": []
  },
  {
   "cell_type": "code",
   "execution_count": null,
   "metadata": {},
   "outputs": [],
   "source": []
  }
 ],
 "metadata": {
  "kernelspec": {
   "display_name": "Python 3.7.3 64-bit ('base': conda)",
   "language": "python",
   "name": "python37364bitbasecondab7facb6f74ce4591a50a5b831effa026"
  },
  "language_info": {
   "codemirror_mode": {
    "name": "ipython",
    "version": 3
   },
   "file_extension": ".py",
   "mimetype": "text/x-python",
   "name": "python",
   "nbconvert_exporter": "python",
   "pygments_lexer": "ipython3",
   "version": "3.7.3"
  }
 },
 "nbformat": 4,
 "nbformat_minor": 4
}
