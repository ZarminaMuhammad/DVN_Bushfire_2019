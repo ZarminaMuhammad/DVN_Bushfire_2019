{
 "cells": [
  {
   "cell_type": "code",
   "execution_count": 1,
   "metadata": {},
   "outputs": [
    {
     "name": "stderr",
     "output_type": "stream",
     "text": [
      "Warning message:\n",
      "\"package 'dplyr' was built under R version 3.6.2\"\n",
      "\n",
      "Attaching package: 'dplyr'\n",
      "\n",
      "\n",
      "The following objects are masked from 'package:stats':\n",
      "\n",
      "    filter, lag\n",
      "\n",
      "\n",
      "The following objects are masked from 'package:base':\n",
      "\n",
      "    intersect, setdiff, setequal, union\n",
      "\n",
      "\n",
      "Warning message:\n",
      "\"package 'tidyverse' was built under R version 3.6.3\"\n",
      "-- \u001b[1mAttaching packages\u001b[22m --------------------------------------- tidyverse 1.3.0 --\n",
      "\n",
      "\u001b[32mv\u001b[39m \u001b[34mtibble \u001b[39m 2.1.3     \u001b[32mv\u001b[39m \u001b[34mpurrr  \u001b[39m 0.3.3\n",
      "\u001b[32mv\u001b[39m \u001b[34mtidyr  \u001b[39m 1.0.2     \u001b[32mv\u001b[39m \u001b[34mstringr\u001b[39m 1.4.0\n",
      "\u001b[32mv\u001b[39m \u001b[34mreadr  \u001b[39m 1.3.1     \u001b[32mv\u001b[39m \u001b[34mforcats\u001b[39m 0.4.0\n",
      "\n",
      "Warning message:\n",
      "\"package 'tidyr' was built under R version 3.6.2\"\n",
      "Warning message:\n",
      "\"package 'purrr' was built under R version 3.6.2\"\n",
      "-- \u001b[1mConflicts\u001b[22m ------------------------------------------ tidyverse_conflicts() --\n",
      "\u001b[31mx\u001b[39m \u001b[34mdplyr\u001b[39m::\u001b[32mfilter()\u001b[39m masks \u001b[34mstats\u001b[39m::filter()\n",
      "\u001b[31mx\u001b[39m \u001b[34mdplyr\u001b[39m::\u001b[32mlag()\u001b[39m    masks \u001b[34mstats\u001b[39m::lag()\n",
      "\n",
      "\n",
      "Attaching package: 'reshape'\n",
      "\n",
      "\n",
      "The following objects are masked from 'package:tidyr':\n",
      "\n",
      "    expand, smiths\n",
      "\n",
      "\n",
      "The following object is masked from 'package:dplyr':\n",
      "\n",
      "    rename\n",
      "\n",
      "\n",
      "\n",
      "Attaching package: 'reshape2'\n",
      "\n",
      "\n",
      "The following objects are masked from 'package:reshape':\n",
      "\n",
      "    colsplit, melt, recast\n",
      "\n",
      "\n",
      "The following object is masked from 'package:tidyr':\n",
      "\n",
      "    smiths\n",
      "\n",
      "\n"
     ]
    }
   ],
   "source": [
    "# loading libraries\n",
    "library(readxl)\n",
    "library(dplyr)\n",
    "library(ggplot2)\n",
    "library(tidyverse)\n",
    "library(reshape)\n",
    "library(\"reshape2\")\n"
   ]
  },
  {
   "cell_type": "code",
   "execution_count": 10,
   "metadata": {},
   "outputs": [
    {
     "data": {
      "text/html": [
       "'C:/Users/61423/OneDrive/Desktop/SEM 3/DVN/AT3/AGRI INVESTOR'"
      ],
      "text/latex": [
       "'C:/Users/61423/OneDrive/Desktop/SEM 3/DVN/AT3/AGRI INVESTOR'"
      ],
      "text/markdown": [
       "'C:/Users/61423/OneDrive/Desktop/SEM 3/DVN/AT3/AGRI INVESTOR'"
      ],
      "text/plain": [
       "[1] \"C:/Users/61423/OneDrive/Desktop/SEM 3/DVN/AT3/AGRI INVESTOR\""
      ]
     },
     "metadata": {},
     "output_type": "display_data"
    }
   ],
   "source": [
    "getwd()"
   ]
  },
  {
   "cell_type": "code",
   "execution_count": 11,
   "metadata": {},
   "outputs": [],
   "source": [
    "setwd(\"C:/Users/61423/OneDrive/Desktop/SEM 3/DVN/AT3/AGRI INVESTOR\")"
   ]
  },
  {
   "cell_type": "code",
   "execution_count": 12,
   "metadata": {},
   "outputs": [
    {
     "data": {
      "text/html": [
       "<table>\n",
       "<caption>A tibble: 7 × 9</caption>\n",
       "<thead>\n",
       "\t<tr><th scope=col>State</th><th scope=col>Conservation</th><th scope=col>Forests/Plantation</th><th scope=col>Agriculture</th><th scope=col>Intensive residential/commercial</th><th scope=col>Rural residential/commercial</th><th scope=col>Total</th><th scope=col>Fatalitites</th><th scope=col>Homes Lost</th></tr>\n",
       "\t<tr><th scope=col>&lt;chr&gt;</th><th scope=col>&lt;dbl&gt;</th><th scope=col>&lt;dbl&gt;</th><th scope=col>&lt;dbl&gt;</th><th scope=col>&lt;dbl&gt;</th><th scope=col>&lt;dbl&gt;</th><th scope=col>&lt;dbl&gt;</th><th scope=col>&lt;dbl&gt;</th><th scope=col>&lt;chr&gt;</th></tr>\n",
       "</thead>\n",
       "<tbody>\n",
       "\t<tr><td>ACT  </td><td>  83500</td><td>    269</td><td>   3114</td><td>    0</td><td>    0</td><td>  86833</td><td> 1</td><td>0    </td></tr>\n",
       "\t<tr><td>QLD  </td><td>1042793</td><td> 121572</td><td>1633130</td><td> 2440</td><td> 1116</td><td>2801050</td><td> 0</td><td>48   </td></tr>\n",
       "\t<tr><td>NSW  </td><td>2557544</td><td> 749410</td><td> 558878</td><td>25460</td><td> 3121</td><td>3894413</td><td>25</td><td>2439 </td></tr>\n",
       "\t<tr><td>SA   </td><td> 153010</td><td>  23916</td><td>  98966</td><td> 3807</td><td> 1706</td><td> 281405</td><td> 3</td><td>151  </td></tr>\n",
       "\t<tr><td>TAS  </td><td>  18478</td><td>  12505</td><td>    825</td><td>   67</td><td>  290</td><td>  32165</td><td> 0</td><td>2    </td></tr>\n",
       "\t<tr><td>VIC  </td><td> 450163</td><td> 874327</td><td> 163422</td><td> 6299</td><td>13894</td><td>1508105</td><td> 5</td><td>396  </td></tr>\n",
       "\t<tr><td>Total</td><td>4305488</td><td>1781999</td><td>2458334</td><td>38073</td><td>20127</td><td>8603971</td><td>34</td><td>3000+</td></tr>\n",
       "</tbody>\n",
       "</table>\n"
      ],
      "text/latex": [
       "A tibble: 7 × 9\n",
       "\\begin{tabular}{lllllllll}\n",
       " State & Conservation & Forests/Plantation & Agriculture & Intensive residential/commercial & Rural residential/commercial & Total & Fatalitites & Homes Lost\\\\\n",
       " <chr> & <dbl> & <dbl> & <dbl> & <dbl> & <dbl> & <dbl> & <dbl> & <chr>\\\\\n",
       "\\hline\n",
       "\t ACT   &   83500 &     269 &    3114 &     0 &     0 &   86833 &  1 & 0    \\\\\n",
       "\t QLD   & 1042793 &  121572 & 1633130 &  2440 &  1116 & 2801050 &  0 & 48   \\\\\n",
       "\t NSW   & 2557544 &  749410 &  558878 & 25460 &  3121 & 3894413 & 25 & 2439 \\\\\n",
       "\t SA    &  153010 &   23916 &   98966 &  3807 &  1706 &  281405 &  3 & 151  \\\\\n",
       "\t TAS   &   18478 &   12505 &     825 &    67 &   290 &   32165 &  0 & 2    \\\\\n",
       "\t VIC   &  450163 &  874327 &  163422 &  6299 & 13894 & 1508105 &  5 & 396  \\\\\n",
       "\t Total & 4305488 & 1781999 & 2458334 & 38073 & 20127 & 8603971 & 34 & 3000+\\\\\n",
       "\\end{tabular}\n"
      ],
      "text/markdown": [
       "\n",
       "A tibble: 7 × 9\n",
       "\n",
       "| State &lt;chr&gt; | Conservation &lt;dbl&gt; | Forests/Plantation &lt;dbl&gt; | Agriculture &lt;dbl&gt; | Intensive residential/commercial &lt;dbl&gt; | Rural residential/commercial &lt;dbl&gt; | Total &lt;dbl&gt; | Fatalitites &lt;dbl&gt; | Homes Lost &lt;chr&gt; |\n",
       "|---|---|---|---|---|---|---|---|---|\n",
       "| ACT   |   83500 |     269 |    3114 |     0 |     0 |   86833 |  1 | 0     |\n",
       "| QLD   | 1042793 |  121572 | 1633130 |  2440 |  1116 | 2801050 |  0 | 48    |\n",
       "| NSW   | 2557544 |  749410 |  558878 | 25460 |  3121 | 3894413 | 25 | 2439  |\n",
       "| SA    |  153010 |   23916 |   98966 |  3807 |  1706 |  281405 |  3 | 151   |\n",
       "| TAS   |   18478 |   12505 |     825 |    67 |   290 |   32165 |  0 | 2     |\n",
       "| VIC   |  450163 |  874327 |  163422 |  6299 | 13894 | 1508105 |  5 | 396   |\n",
       "| Total | 4305488 | 1781999 | 2458334 | 38073 | 20127 | 8603971 | 34 | 3000+ |\n",
       "\n"
      ],
      "text/plain": [
       "  State Conservation Forests/Plantation Agriculture\n",
       "1 ACT     83500          269               3114    \n",
       "2 QLD   1042793       121572            1633130    \n",
       "3 NSW   2557544       749410             558878    \n",
       "4 SA     153010        23916              98966    \n",
       "5 TAS     18478        12505                825    \n",
       "6 VIC    450163       874327             163422    \n",
       "7 Total 4305488      1781999            2458334    \n",
       "  Intensive residential/commercial Rural residential/commercial Total  \n",
       "1     0                                0                          86833\n",
       "2  2440                             1116                        2801050\n",
       "3 25460                             3121                        3894413\n",
       "4  3807                             1706                         281405\n",
       "5    67                              290                          32165\n",
       "6  6299                            13894                        1508105\n",
       "7 38073                            20127                        8603971\n",
       "  Fatalitites Homes Lost\n",
       "1  1          0         \n",
       "2  0          48        \n",
       "3 25          2439      \n",
       "4  3          151       \n",
       "5  0          2         \n",
       "6  5          396       \n",
       "7 34          3000+     "
      ]
     },
     "metadata": {},
     "output_type": "display_data"
    }
   ],
   "source": [
    "forest <- read_excel(\"bushfire_damage.xlsx\") \n",
    "forest"
   ]
  },
  {
   "cell_type": "code",
   "execution_count": 15,
   "metadata": {},
   "outputs": [
    {
     "data": {
      "text/html": [
       "<table>\n",
       "<caption>A tibble: 7 × 9</caption>\n",
       "<thead>\n",
       "\t<tr><th scope=col>State</th><th scope=col>Conservation</th><th scope=col>Forests</th><th scope=col>Agriculture</th><th scope=col>Intensive_residential</th><th scope=col>rural_residential</th><th scope=col>Total</th><th scope=col>Fatalitites</th><th scope=col>homes_lost</th></tr>\n",
       "\t<tr><th scope=col>&lt;chr&gt;</th><th scope=col>&lt;dbl&gt;</th><th scope=col>&lt;dbl&gt;</th><th scope=col>&lt;dbl&gt;</th><th scope=col>&lt;dbl&gt;</th><th scope=col>&lt;dbl&gt;</th><th scope=col>&lt;dbl&gt;</th><th scope=col>&lt;dbl&gt;</th><th scope=col>&lt;chr&gt;</th></tr>\n",
       "</thead>\n",
       "<tbody>\n",
       "\t<tr><td>ACT  </td><td>  83500</td><td>    269</td><td>   3114</td><td>    0</td><td>    0</td><td>  86833</td><td> 1</td><td>0    </td></tr>\n",
       "\t<tr><td>QLD  </td><td>1042793</td><td> 121572</td><td>1633130</td><td> 2440</td><td> 1116</td><td>2801050</td><td> 0</td><td>48   </td></tr>\n",
       "\t<tr><td>NSW  </td><td>2557544</td><td> 749410</td><td> 558878</td><td>25460</td><td> 3121</td><td>3894413</td><td>25</td><td>2439 </td></tr>\n",
       "\t<tr><td>SA   </td><td> 153010</td><td>  23916</td><td>  98966</td><td> 3807</td><td> 1706</td><td> 281405</td><td> 3</td><td>151  </td></tr>\n",
       "\t<tr><td>TAS  </td><td>  18478</td><td>  12505</td><td>    825</td><td>   67</td><td>  290</td><td>  32165</td><td> 0</td><td>2    </td></tr>\n",
       "\t<tr><td>VIC  </td><td> 450163</td><td> 874327</td><td> 163422</td><td> 6299</td><td>13894</td><td>1508105</td><td> 5</td><td>396  </td></tr>\n",
       "\t<tr><td>Total</td><td>4305488</td><td>1781999</td><td>2458334</td><td>38073</td><td>20127</td><td>8603971</td><td>34</td><td>3000+</td></tr>\n",
       "</tbody>\n",
       "</table>\n"
      ],
      "text/latex": [
       "A tibble: 7 × 9\n",
       "\\begin{tabular}{lllllllll}\n",
       " State & Conservation & Forests & Agriculture & Intensive\\_residential & rural\\_residential & Total & Fatalitites & homes\\_lost\\\\\n",
       " <chr> & <dbl> & <dbl> & <dbl> & <dbl> & <dbl> & <dbl> & <dbl> & <chr>\\\\\n",
       "\\hline\n",
       "\t ACT   &   83500 &     269 &    3114 &     0 &     0 &   86833 &  1 & 0    \\\\\n",
       "\t QLD   & 1042793 &  121572 & 1633130 &  2440 &  1116 & 2801050 &  0 & 48   \\\\\n",
       "\t NSW   & 2557544 &  749410 &  558878 & 25460 &  3121 & 3894413 & 25 & 2439 \\\\\n",
       "\t SA    &  153010 &   23916 &   98966 &  3807 &  1706 &  281405 &  3 & 151  \\\\\n",
       "\t TAS   &   18478 &   12505 &     825 &    67 &   290 &   32165 &  0 & 2    \\\\\n",
       "\t VIC   &  450163 &  874327 &  163422 &  6299 & 13894 & 1508105 &  5 & 396  \\\\\n",
       "\t Total & 4305488 & 1781999 & 2458334 & 38073 & 20127 & 8603971 & 34 & 3000+\\\\\n",
       "\\end{tabular}\n"
      ],
      "text/markdown": [
       "\n",
       "A tibble: 7 × 9\n",
       "\n",
       "| State &lt;chr&gt; | Conservation &lt;dbl&gt; | Forests &lt;dbl&gt; | Agriculture &lt;dbl&gt; | Intensive_residential &lt;dbl&gt; | rural_residential &lt;dbl&gt; | Total &lt;dbl&gt; | Fatalitites &lt;dbl&gt; | homes_lost &lt;chr&gt; |\n",
       "|---|---|---|---|---|---|---|---|---|\n",
       "| ACT   |   83500 |     269 |    3114 |     0 |     0 |   86833 |  1 | 0     |\n",
       "| QLD   | 1042793 |  121572 | 1633130 |  2440 |  1116 | 2801050 |  0 | 48    |\n",
       "| NSW   | 2557544 |  749410 |  558878 | 25460 |  3121 | 3894413 | 25 | 2439  |\n",
       "| SA    |  153010 |   23916 |   98966 |  3807 |  1706 |  281405 |  3 | 151   |\n",
       "| TAS   |   18478 |   12505 |     825 |    67 |   290 |   32165 |  0 | 2     |\n",
       "| VIC   |  450163 |  874327 |  163422 |  6299 | 13894 | 1508105 |  5 | 396   |\n",
       "| Total | 4305488 | 1781999 | 2458334 | 38073 | 20127 | 8603971 | 34 | 3000+ |\n",
       "\n"
      ],
      "text/plain": [
       "  State Conservation Forests Agriculture Intensive_residential\n",
       "1 ACT     83500          269    3114         0                \n",
       "2 QLD   1042793       121572 1633130      2440                \n",
       "3 NSW   2557544       749410  558878     25460                \n",
       "4 SA     153010        23916   98966      3807                \n",
       "5 TAS     18478        12505     825        67                \n",
       "6 VIC    450163       874327  163422      6299                \n",
       "7 Total 4305488      1781999 2458334     38073                \n",
       "  rural_residential Total   Fatalitites homes_lost\n",
       "1     0               86833  1          0         \n",
       "2  1116             2801050  0          48        \n",
       "3  3121             3894413 25          2439      \n",
       "4  1706              281405  3          151       \n",
       "5   290               32165  0          2         \n",
       "6 13894             1508105  5          396       \n",
       "7 20127             8603971 34          3000+     "
      ]
     },
     "metadata": {},
     "output_type": "display_data"
    }
   ],
   "source": [
    "# Rename some columns\n",
    "colnames(forest)[3] <- \"Forests\"\n",
    "colnames(forest)[5] <- \"Intensive_residential\"\n",
    "colnames(forest)[6] <- \"rural_residential\"\n",
    "colnames(forest)[9] <- \"homes_lost\"\n",
    "forest\n",
    "\n",
    "\n",
    "# convert dbl to numeric\n",
    "forest$Agriculture= as.numeric(forest$Agriculture)\n"
   ]
  },
  {
   "cell_type": "code",
   "execution_count": null,
   "metadata": {},
   "outputs": [],
   "source": [
    "total_forests<-ggplot(data=forest,\n",
    "          mapping= aes(x= State, fill=))"
   ]
  },
  {
   "cell_type": "code",
   "execution_count": 37,
   "metadata": {},
   "outputs": [
    {
     "data": {
      "text/html": [
       "<table>\n",
       "<caption>A tibble: 7 × 6</caption>\n",
       "<thead>\n",
       "\t<tr><th scope=col>State</th><th scope=col>Conservation</th><th scope=col>Forests</th><th scope=col>Agriculture</th><th scope=col>Intensive_residential</th><th scope=col>rural_residential</th></tr>\n",
       "\t<tr><th scope=col>&lt;chr&gt;</th><th scope=col>&lt;dbl&gt;</th><th scope=col>&lt;dbl&gt;</th><th scope=col>&lt;dbl&gt;</th><th scope=col>&lt;dbl&gt;</th><th scope=col>&lt;dbl&gt;</th></tr>\n",
       "</thead>\n",
       "<tbody>\n",
       "\t<tr><td>ACT  </td><td>  83500</td><td>    269</td><td>   3114</td><td>    0</td><td>    0</td></tr>\n",
       "\t<tr><td>QLD  </td><td>1042793</td><td> 121572</td><td>1633130</td><td> 2440</td><td> 1116</td></tr>\n",
       "\t<tr><td>NSW  </td><td>2557544</td><td> 749410</td><td> 558878</td><td>25460</td><td> 3121</td></tr>\n",
       "\t<tr><td>SA   </td><td> 153010</td><td>  23916</td><td>  98966</td><td> 3807</td><td> 1706</td></tr>\n",
       "\t<tr><td>TAS  </td><td>  18478</td><td>  12505</td><td>    825</td><td>   67</td><td>  290</td></tr>\n",
       "\t<tr><td>VIC  </td><td> 450163</td><td> 874327</td><td> 163422</td><td> 6299</td><td>13894</td></tr>\n",
       "\t<tr><td>Total</td><td>4305488</td><td>1781999</td><td>2458334</td><td>38073</td><td>20127</td></tr>\n",
       "</tbody>\n",
       "</table>\n"
      ],
      "text/latex": [
       "A tibble: 7 × 6\n",
       "\\begin{tabular}{llllll}\n",
       " State & Conservation & Forests & Agriculture & Intensive\\_residential & rural\\_residential\\\\\n",
       " <chr> & <dbl> & <dbl> & <dbl> & <dbl> & <dbl>\\\\\n",
       "\\hline\n",
       "\t ACT   &   83500 &     269 &    3114 &     0 &     0\\\\\n",
       "\t QLD   & 1042793 &  121572 & 1633130 &  2440 &  1116\\\\\n",
       "\t NSW   & 2557544 &  749410 &  558878 & 25460 &  3121\\\\\n",
       "\t SA    &  153010 &   23916 &   98966 &  3807 &  1706\\\\\n",
       "\t TAS   &   18478 &   12505 &     825 &    67 &   290\\\\\n",
       "\t VIC   &  450163 &  874327 &  163422 &  6299 & 13894\\\\\n",
       "\t Total & 4305488 & 1781999 & 2458334 & 38073 & 20127\\\\\n",
       "\\end{tabular}\n"
      ],
      "text/markdown": [
       "\n",
       "A tibble: 7 × 6\n",
       "\n",
       "| State &lt;chr&gt; | Conservation &lt;dbl&gt; | Forests &lt;dbl&gt; | Agriculture &lt;dbl&gt; | Intensive_residential &lt;dbl&gt; | rural_residential &lt;dbl&gt; |\n",
       "|---|---|---|---|---|---|\n",
       "| ACT   |   83500 |     269 |    3114 |     0 |     0 |\n",
       "| QLD   | 1042793 |  121572 | 1633130 |  2440 |  1116 |\n",
       "| NSW   | 2557544 |  749410 |  558878 | 25460 |  3121 |\n",
       "| SA    |  153010 |   23916 |   98966 |  3807 |  1706 |\n",
       "| TAS   |   18478 |   12505 |     825 |    67 |   290 |\n",
       "| VIC   |  450163 |  874327 |  163422 |  6299 | 13894 |\n",
       "| Total | 4305488 | 1781999 | 2458334 | 38073 | 20127 |\n",
       "\n"
      ],
      "text/plain": [
       "  State Conservation Forests Agriculture Intensive_residential\n",
       "1 ACT     83500          269    3114         0                \n",
       "2 QLD   1042793       121572 1633130      2440                \n",
       "3 NSW   2557544       749410  558878     25460                \n",
       "4 SA     153010        23916   98966      3807                \n",
       "5 TAS     18478        12505     825        67                \n",
       "6 VIC    450163       874327  163422      6299                \n",
       "7 Total 4305488      1781999 2458334     38073                \n",
       "  rural_residential\n",
       "1     0            \n",
       "2  1116            \n",
       "3  3121            \n",
       "4  1706            \n",
       "5   290            \n",
       "6 13894            \n",
       "7 20127            "
      ]
     },
     "metadata": {},
     "output_type": "display_data"
    }
   ],
   "source": [
    "land_damaged<- forest %>% select(State, Conservation, Forests, Agriculture, Intensive_residential, rural_residential)\n",
    "land_damaged"
   ]
  },
  {
   "cell_type": "code",
   "execution_count": 23,
   "metadata": {},
   "outputs": [],
   "source": [
    "damage<-  melt(land_damaged, id=\"State\") # convert to long format\n",
    "colnames(damage)[2] <- \"Land_type\"\n",
    "#damage"
   ]
  },
  {
   "cell_type": "code",
   "execution_count": 35,
   "metadata": {},
   "outputs": [],
   "source": [
    "p<-ggplot(data=damage,\n",
    "          mapping= aes(x= State, fill=Land_type))"
   ]
  },
  {
   "cell_type": "code",
   "execution_count": 36,
   "metadata": {},
   "outputs": [
    {
     "data": {
      "image/png": "[encoded data removed]",
      "text/plain": [
       "plot without title"
      ]
     },
     "metadata": {
      "image/png": {
       "height": 420,
       "width": 420
      },
      "text/plain": {
       "height": 420,
       "width": 420
      }
     },
     "output_type": "display_data"
    }
   ],
   "source": [
    "pd<-p + geom_bar(position = \"dodge\",\n",
    "                 mapping= aes(y= value),stat= \"identity\") +\n",
    "  labs(\n",
    "    x = \"\",\n",
    "    y = \"\",\n",
    "    title = \"\"\n",
    "     )\n",
    "pd"
   ]
  },
  {
   "cell_type": "code",
   "execution_count": null,
   "metadata": {},
   "outputs": [],
   "source": []
  },
  {
   "cell_type": "code",
   "execution_count": null,
   "metadata": {},
   "outputs": [],
   "source": []
  }
 ],
 "metadata": {
  "kernelspec": {
   "display_name": "R",
   "language": "R",
   "name": "ir"
  },
  "language_info": {
   "codemirror_mode": "r",
   "file_extension": ".r",
   "mimetype": "text/x-r-source",
   "name": "R",
   "pygments_lexer": "r",
   "version": "3.6.1"
  }
 },
 "nbformat": 4,
 "nbformat_minor": 4
}
