{
 "cells": [
  {
   "cell_type": "markdown",
   "metadata": {},
   "source": [
    "# Bushfire Impact Water Quality"
   ]
  },
  {
   "cell_type": "markdown",
   "metadata": {},
   "source": [
    "**Data Source:**\n",
    "+ https://datasets.seed.nsw.gov.au/dataset/bushfire-impact-water-quality"
   ]
  },
  {
   "cell_type": "markdown",
   "metadata": {},
   "source": [
    "The above source has data available from Jan 2020 onwards, so in this procedure data lakes data for Jan 2020 was taken only, to determine the increase in water temp as a result of bushfire.\n",
    "\n",
    "The following data is taken form the following **.csv** files and then was concatenated using tableau, and grouped by date using python (as there were multiple daily records observed).\n",
    "\n",
    "The datasets are;\n",
    "+ Lake Conjola Water Quality Time Series Jan - Feb, https://datasets.seed.nsw.gov.au/dataset/bushfire-impact-water-quality/resource/bfe17760-f8f2-442e-a546-3c0926f2bbf0\n",
    "+ Meroo Lake Water Quality Time Series Jan - Feb, https://datasets.seed.nsw.gov.au/dataset/bushfire-impact-water-quality/resource/a16f8fcb-ff60-4db9-b7bb-860927859200\n",
    "+ Termeil Lake Water Quality Time Series Jan - Feb,\n",
    "https://datasets.seed.nsw.gov.au/dataset/bushfire-impact-water-quality/resource/8a888fbe-1948-48bb-bfee-f057bc965f91\n",
    "+ Tuross River Water Quality Time Series Jan - Feb,\n",
    "https://datasets.seed.nsw.gov.au/dataset/bushfire-impact-water-quality/resource/e3c0b671-9b67-4808-8126-adc4411d7393"
   ]
  },
  {
   "cell_type": "code",
   "execution_count": 92,
   "metadata": {},
   "outputs": [],
   "source": [
    "import os"
   ]
  },
  {
   "cell_type": "code",
   "execution_count": 93,
   "metadata": {},
   "outputs": [],
   "source": [
    "import numpy as np # linear algebra\n",
    "import pandas as pd # data processing, CSV file I/O (e.g. pd.read_csv)\n",
    "import matplotlib.pyplot as plt #plotting\n",
    "import seaborn as sns #for beatiful visualization"
   ]
  },
  {
   "cell_type": "code",
   "execution_count": 94,
   "metadata": {},
   "outputs": [
    {
     "data": {
      "text/plain": [
       "'C:\\\\Users\\\\61423\\\\OneDrive\\\\Desktop\\\\SEM 3\\\\DVN\\\\AT3\\\\Python'"
      ]
     },
     "execution_count": 94,
     "metadata": {},
     "output_type": "execute_result"
    }
   ],
   "source": [
    "os.getcwd()"
   ]
  },
  {
   "cell_type": "code",
   "execution_count": 95,
   "metadata": {},
   "outputs": [],
   "source": [
    "lakes= pd.read_csv(r'C:\\\\Users\\\\61423\\\\OneDrive\\\\Desktop\\\\SEM 3\\\\DVN\\\\AT3\\\\nsw stats\\\\water quality\\\\combined_lakes.csv')"
   ]
  },
  {
   "cell_type": "code",
   "execution_count": 96,
   "metadata": {},
   "outputs": [
    {
     "data": {
      "text/html": [
       "<div>\n",
       "<style scoped>\n",
       "    .dataframe tbody tr th:only-of-type {\n",
       "        vertical-align: middle;\n",
       "    }\n",
       "\n",
       "    .dataframe tbody tr th {\n",
       "        vertical-align: top;\n",
       "    }\n",
       "\n",
       "    .dataframe thead th {\n",
       "        text-align: right;\n",
       "    }\n",
       "</style>\n",
       "<table border=\"1\" class=\"dataframe\">\n",
       "  <thead>\n",
       "    <tr style=\"text-align: right;\">\n",
       "      <th></th>\n",
       "      <th>Date</th>\n",
       "      <th>Conjola_temp</th>\n",
       "      <th>Termeil_temp</th>\n",
       "      <th>Tuross_temp</th>\n",
       "      <th>Meroo_temp</th>\n",
       "    </tr>\n",
       "  </thead>\n",
       "  <tbody>\n",
       "    <tr>\n",
       "      <th>0</th>\n",
       "      <td>2020-01-21</td>\n",
       "      <td>25.53</td>\n",
       "      <td>19.88</td>\n",
       "      <td>23.38</td>\n",
       "      <td>19.78</td>\n",
       "    </tr>\n",
       "    <tr>\n",
       "      <th>1</th>\n",
       "      <td>2020-01-21</td>\n",
       "      <td>25.52</td>\n",
       "      <td>20.20</td>\n",
       "      <td>23.26</td>\n",
       "      <td>19.78</td>\n",
       "    </tr>\n",
       "    <tr>\n",
       "      <th>2</th>\n",
       "      <td>2020-01-21</td>\n",
       "      <td>25.46</td>\n",
       "      <td>20.42</td>\n",
       "      <td>23.17</td>\n",
       "      <td>19.86</td>\n",
       "    </tr>\n",
       "    <tr>\n",
       "      <th>3</th>\n",
       "      <td>2020-01-21</td>\n",
       "      <td>25.48</td>\n",
       "      <td>20.52</td>\n",
       "      <td>23.06</td>\n",
       "      <td>20.04</td>\n",
       "    </tr>\n",
       "    <tr>\n",
       "      <th>4</th>\n",
       "      <td>2020-01-21</td>\n",
       "      <td>25.35</td>\n",
       "      <td>20.64</td>\n",
       "      <td>22.94</td>\n",
       "      <td>20.20</td>\n",
       "    </tr>\n",
       "  </tbody>\n",
       "</table>\n",
       "</div>"
      ],
      "text/plain": [
       "         Date  Conjola_temp  Termeil_temp  Tuross_temp  Meroo_temp\n",
       "0  2020-01-21         25.53         19.88        23.38       19.78\n",
       "1  2020-01-21         25.52         20.20        23.26       19.78\n",
       "2  2020-01-21         25.46         20.42        23.17       19.86\n",
       "3  2020-01-21         25.48         20.52        23.06       20.04\n",
       "4  2020-01-21         25.35         20.64        22.94       20.20"
      ]
     },
     "execution_count": 96,
     "metadata": {},
     "output_type": "execute_result"
    }
   ],
   "source": [
    "lakes.head()"
   ]
  },
  {
   "cell_type": "code",
   "execution_count": 97,
   "metadata": {},
   "outputs": [],
   "source": [
    "lakes['Date'] = pd.to_datetime(lakes['Date'])\n"
   ]
  },
  {
   "cell_type": "code",
   "execution_count": 98,
   "metadata": {},
   "outputs": [],
   "source": [
    "lakes = lakes.resample('d', on='Date').mean().dropna(how='all')\n"
   ]
  },
  {
   "cell_type": "code",
   "execution_count": 99,
   "metadata": {},
   "outputs": [
    {
     "name": "stdout",
     "output_type": "stream",
     "text": [
      "            Conjola_temp  Termeil_temp  Tuross_temp  Meroo_temp\n",
      "Date                                                           \n",
      "2020-01-21     25.265500     21.688000    22.523000   21.313000\n",
      "2020-01-22     25.782083     21.900417    26.131562   23.250000\n",
      "2020-01-23     25.799062     27.261042    28.220417   27.066250\n",
      "2020-01-24     25.537396     26.149792    26.953542   25.785625\n",
      "2020-01-25     26.010000     27.303125    27.166458   27.332500\n",
      "2020-01-26     26.825312     29.377292    27.279792   29.785625\n",
      "2020-01-27     26.995313     28.095000    27.255208   28.576250\n",
      "2020-01-28     27.072604     27.400625    27.231563   27.451250\n",
      "2020-01-29     27.121042     27.115833    27.330104   27.190625\n",
      "2020-01-30     27.693021     27.766042    27.471875   27.920833\n",
      "2020-01-31     28.193021     28.349375    27.893646   28.738125\n",
      "2020-02-01     29.042500     29.727708    28.190417   29.986667\n",
      "2020-02-02     28.884896     27.821042    28.101042   28.100417\n",
      "2020-02-03     28.200729     26.092292    27.570312   26.242083\n",
      "2020-02-04     27.184271     23.183125    25.525104   23.560208\n",
      "2020-02-05     26.996667     24.673958    25.424792   24.840208\n",
      "2020-02-06     26.732604     25.421250    25.667813   25.717292\n",
      "2020-02-07     26.497812     25.157083    26.149583   24.945833\n",
      "2020-02-08     26.320625     25.184167    26.255833   23.652708\n",
      "2020-02-09     25.460417     21.888125    25.258229   21.072917\n",
      "2020-02-10     21.836979     20.693750    22.357813   20.881250\n",
      "2020-02-11     24.466979     21.522708    20.119479   23.400625\n",
      "2020-02-12     24.529896     22.475208    21.619583   25.513333\n",
      "2020-02-13     24.389479     23.517917    22.025625   25.861667\n",
      "2020-02-14     24.419688     24.767708    22.392083   26.853333\n",
      "2020-02-15     24.603958     25.958958    22.909688   26.983333\n",
      "2020-02-16     24.691458     26.002292    22.724167   25.438333\n",
      "2020-02-17     24.703878     25.804490    21.981020   24.462857\n"
     ]
    }
   ],
   "source": [
    "print(lakes)"
   ]
  },
  {
   "cell_type": "code",
   "execution_count": 100,
   "metadata": {},
   "outputs": [
    {
     "name": "stdout",
     "output_type": "stream",
     "text": [
      "modified: \n",
      "            Conjola_temp  Termeil_temp  Tuross_temp  Meroo_temp\n",
      "Date                                                           \n",
      "2020-01-21     25.265500     21.688000    22.523000   21.313000\n",
      "2020-01-22     25.782083     21.900417    26.131562   23.250000\n",
      "2020-01-23     25.799062     27.261042    28.220417   27.066250\n",
      "2020-01-24     25.537396     26.149792    26.953542   25.785625\n",
      "2020-01-25     26.010000     27.303125    27.166458   27.332500\n",
      "2020-01-26     26.825312     29.377292    27.279792   29.785625\n",
      "2020-01-27     26.995313     28.095000    27.255208   28.576250\n",
      "2020-01-28     27.072604     27.400625    27.231563   27.451250\n",
      "2020-01-29     27.121042     27.115833    27.330104   27.190625\n",
      "2020-01-30     27.693021     27.766042    27.471875   27.920833\n",
      "2020-01-31     28.193021     28.349375    27.893646   28.738125\n",
      "2020-02-01     29.042500     29.727708    28.190417   29.986667\n",
      "2020-02-02     28.884896     27.821042    28.101042   28.100417\n",
      "2020-02-03     28.200729     26.092292    27.570312   26.242083\n",
      "2020-02-04     27.184271     23.183125    25.525104   23.560208\n",
      "2020-02-05     26.996667     24.673958    25.424792   24.840208\n",
      "2020-02-06     26.732604     25.421250    25.667813   25.717292\n",
      "2020-02-07     26.497812     25.157083    26.149583   24.945833\n",
      "2020-02-08     26.320625     25.184167    26.255833   23.652708\n",
      "2020-02-09     25.460417     21.888125    25.258229   21.072917\n",
      "2020-02-10     21.836979     20.693750    22.357813   20.881250\n",
      "2020-02-11     24.466979     21.522708    20.119479   23.400625\n",
      "2020-02-12     24.529896     22.475208    21.619583   25.513333\n",
      "2020-02-13     24.389479     23.517917    22.025625   25.861667\n",
      "2020-02-14     24.419688     24.767708    22.392083   26.853333\n",
      "2020-02-15     24.603958     25.958958    22.909688   26.983333\n",
      "2020-02-16     24.691458     26.002292    22.724167   25.438333\n",
      "2020-02-17     24.703878     25.804490    21.981020   24.462857\n"
     ]
    }
   ],
   "source": [
    "# As date is in the index column we will rename the index column\n",
    "#lakes.index.name= \"Date\"\n",
    "# Converting the index into a column\n",
    "#lakes=lakes.reset_index()\n",
    "\n",
    "\n",
    "print(\"modified: \")\n",
    "print(lakes)"
   ]
  },
  {
   "cell_type": "code",
   "execution_count": 101,
   "metadata": {},
   "outputs": [],
   "source": [
    "# save lakes into a csv\n",
    "lakes.to_csv(\"lakes_temp.csv\")"
   ]
  },
  {
   "cell_type": "code",
   "execution_count": 102,
   "metadata": {},
   "outputs": [
    {
     "ename": "KeyError",
     "evalue": "\"The following 'id_vars' are not present in the DataFrame: ['Date']\"",
     "output_type": "error",
     "traceback": [
      "\u001b[1;31m---------------------------------------------------------------------------\u001b[0m",
      "\u001b[1;31mKeyError\u001b[0m                                  Traceback (most recent call last)",
      "\u001b[1;32m<ipython-input-102-0c955b7a76ba>\u001b[0m in \u001b[0;36m<module>\u001b[1;34m\u001b[0m\n\u001b[0;32m      1\u001b[0m lakes_tidy= lakes.melt(id_vars=[\"Date\"], \n\u001b[0;32m      2\u001b[0m                               \u001b[0mvar_name\u001b[0m\u001b[1;33m=\u001b[0m\u001b[1;34m\"Estuaries\"\u001b[0m\u001b[1;33m,\u001b[0m\u001b[1;33m\u001b[0m\u001b[1;33m\u001b[0m\u001b[0m\n\u001b[1;32m----> 3\u001b[1;33m                               value_name=\"water_temperature\")\n\u001b[0m\u001b[0;32m      4\u001b[0m \u001b[1;31m#print(lakes_tidy)\u001b[0m\u001b[1;33m\u001b[0m\u001b[1;33m\u001b[0m\u001b[1;33m\u001b[0m\u001b[0m\n\u001b[0;32m      5\u001b[0m \u001b[1;31m# https://cmdlinetips.com/2019/06/reshaping-dataframes-with-pandas-melt-and-wide_to_long/\u001b[0m\u001b[1;33m\u001b[0m\u001b[1;33m\u001b[0m\u001b[1;33m\u001b[0m\u001b[0m\n",
      "\u001b[1;32m~\\Anaconda3\\lib\\site-packages\\pandas\\core\\frame.py\u001b[0m in \u001b[0;36mmelt\u001b[1;34m(self, id_vars, value_vars, var_name, value_name, col_level)\u001b[0m\n\u001b[0;32m   6504\u001b[0m             \u001b[0mvar_name\u001b[0m\u001b[1;33m=\u001b[0m\u001b[0mvar_name\u001b[0m\u001b[1;33m,\u001b[0m\u001b[1;33m\u001b[0m\u001b[1;33m\u001b[0m\u001b[0m\n\u001b[0;32m   6505\u001b[0m             \u001b[0mvalue_name\u001b[0m\u001b[1;33m=\u001b[0m\u001b[0mvalue_name\u001b[0m\u001b[1;33m,\u001b[0m\u001b[1;33m\u001b[0m\u001b[1;33m\u001b[0m\u001b[0m\n\u001b[1;32m-> 6506\u001b[1;33m             \u001b[0mcol_level\u001b[0m\u001b[1;33m=\u001b[0m\u001b[0mcol_level\u001b[0m\u001b[1;33m,\u001b[0m\u001b[1;33m\u001b[0m\u001b[1;33m\u001b[0m\u001b[0m\n\u001b[0m\u001b[0;32m   6507\u001b[0m         )\n\u001b[0;32m   6508\u001b[0m \u001b[1;33m\u001b[0m\u001b[0m\n",
      "\u001b[1;32m~\\Anaconda3\\lib\\site-packages\\pandas\\core\\reshape\\melt.py\u001b[0m in \u001b[0;36mmelt\u001b[1;34m(frame, id_vars, value_vars, var_name, value_name, col_level)\u001b[0m\n\u001b[0;32m     54\u001b[0m                     \u001b[1;34m\"The following 'id_vars' are not present \"\u001b[0m\u001b[1;33m\u001b[0m\u001b[1;33m\u001b[0m\u001b[0m\n\u001b[0;32m     55\u001b[0m                     \u001b[1;34m\"in the DataFrame: {missing}\"\u001b[0m\u001b[1;33m\u001b[0m\u001b[1;33m\u001b[0m\u001b[0m\n\u001b[1;32m---> 56\u001b[1;33m                     \u001b[1;34m\"\"\u001b[0m\u001b[1;33m.\u001b[0m\u001b[0mformat\u001b[0m\u001b[1;33m(\u001b[0m\u001b[0mmissing\u001b[0m\u001b[1;33m=\u001b[0m\u001b[0mlist\u001b[0m\u001b[1;33m(\u001b[0m\u001b[0mmissing\u001b[0m\u001b[1;33m)\u001b[0m\u001b[1;33m)\u001b[0m\u001b[1;33m\u001b[0m\u001b[1;33m\u001b[0m\u001b[0m\n\u001b[0m\u001b[0;32m     57\u001b[0m                 )\n\u001b[0;32m     58\u001b[0m     \u001b[1;32melse\u001b[0m\u001b[1;33m:\u001b[0m\u001b[1;33m\u001b[0m\u001b[1;33m\u001b[0m\u001b[0m\n",
      "\u001b[1;31mKeyError\u001b[0m: \"The following 'id_vars' are not present in the DataFrame: ['Date']\""
     ]
    }
   ],
   "source": [
    "lakes_tidy= lakes.melt(id_vars=[\"Date\"], \n",
    "                              var_name=\"Estuaries\", \n",
    "                              value_name=\"water_temperature\")\n",
    "#print(lakes_tidy)\n",
    "# https://cmdlinetips.com/2019/06/reshaping-dataframes-with-pandas-melt-and-wide_to_long/"
   ]
  },
  {
   "cell_type": "markdown",
   "metadata": {},
   "source": [
    "\n",
    "# Visualization"
   ]
  },
  {
   "cell_type": "code",
   "execution_count": null,
   "metadata": {},
   "outputs": [],
   "source": [
    "from pandas import read_csv\n",
    "from matplotlib import pyplot"
   ]
  },
  {
   "cell_type": "code",
   "execution_count": 110,
   "metadata": {},
   "outputs": [
    {
     "data": {
      "image/png": "[encoded data removed]",
      "text/plain": [
       "<Figure size 432x288 with 1 Axes>"
      ]
     },
     "metadata": {
      "needs_background": "light"
     },
     "output_type": "display_data"
    }
   ],
   "source": [
    "\n",
    "\n",
    "ax= sns.lineplot(x=\"Date\", y=\"water_temperature\", \n",
    "                 hue=\"Estuaries\", data=lakes_tidy)\n",
    "\n",
    "# Save image\n",
    "fig= plt.gcf()\n",
    "#fig.savefig(\"river_waters.png\")\n",
    "\n",
    "plt.xlabel(\"Date\")\n",
    "plt.ylabel(\"Water_temp_celcius\")\n",
    "plt.title(\"NSW: Lakes water temperature-2020\")\n",
    "plt.tight_layout()\n",
    "\n",
    "ax.set_xticklabels(ax.get_xticklabels(), \n",
    "                   rotation=45, horizontalalignment='right')\n",
    "fig.savefig(\"river_waters.png\")\n",
    "\n",
    "# source: https://www.drawingfromdata.com/how-to-rotate-axis-labels-in-seaborn-and-matplotlib\n",
    "\n"
   ]
  },
  {
   "cell_type": "code",
   "execution_count": 80,
   "metadata": {},
   "outputs": [],
   "source": [
    "import pylab\n",
    "# save image\n",
    "fig.savefig(\"Rivers_temp.pdf\")"
   ]
  },
  {
   "cell_type": "code",
   "execution_count": 79,
   "metadata": {},
   "outputs": [
    {
     "ename": "SyntaxError",
     "evalue": "invalid syntax (<ipython-input-79-f4f8fc54fbc0>, line 1)",
     "output_type": "error",
     "traceback": [
      "\u001b[1;36m  File \u001b[1;32m\"<ipython-input-79-f4f8fc54fbc0>\"\u001b[1;36m, line \u001b[1;32m1\u001b[0m\n\u001b[1;33m    display plot.png\u001b[0m\n\u001b[1;37m               ^\u001b[0m\n\u001b[1;31mSyntaxError\u001b[0m\u001b[1;31m:\u001b[0m invalid syntax\n"
     ]
    }
   ],
   "source": [
    "display Rivers_temp.png"
   ]
  }
 ],
 "metadata": {
  "kernelspec": {
   "display_name": "Python 3.7.3 64-bit ('base': conda)",
   "language": "python",
   "name": "python37364bitbasecondab7facb6f74ce4591a50a5b831effa026"
  },
  "language_info": {
   "codemirror_mode": {
    "name": "ipython",
    "version": 3
   },
   "file_extension": ".py",
   "mimetype": "text/x-python",
   "name": "python",
   "nbconvert_exporter": "python",
   "pygments_lexer": "ipython3",
   "version": "3.7.3"
  }
 },
 "nbformat": 4,
 "nbformat_minor": 4
}
